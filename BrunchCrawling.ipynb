{
  "nbformat": 4,
  "nbformat_minor": 0,
  "metadata": {
    "colab": {
      "name": "BrunchCrawling.ipynb",
      "provenance": [],
      "collapsed_sections": []
    },
    "kernelspec": {
      "name": "python3",
      "display_name": "Python 3"
    },
    "language_info": {
      "name": "python"
    }
  },
  "cells": [
    {
      "cell_type": "markdown",
      "metadata": {
        "id": "PfULow4ekpHQ"
      },
      "source": [
        "### 모듈 임포트"
      ]
    },
    {
      "cell_type": "code",
      "metadata": {
        "id": "9VeHLbYskiHR"
      },
      "source": [
        "from selenium import webdriver\n",
        "from selenium.webdriver.common.keys import Keys\n",
        "import time\n",
        "import datetime\n",
        "import pandas as pd\n",
        "from tqdm import notebook"
      ],
      "execution_count": null,
      "outputs": []
    },
    {
      "cell_type": "markdown",
      "metadata": {
        "id": "HL_J_eT-kr4u"
      },
      "source": [
        "### 최대로 스크롤 내리는 함수 정의"
      ]
    },
    {
      "cell_type": "code",
      "metadata": {
        "id": "shfNO8MAkvcG"
      },
      "source": [
        "def doScrollDown(whileSeconds):\n",
        "    start = datetime.datetime.now()\n",
        "    end = start + datetime.timedelta(seconds=whileSeconds)\n",
        "    while True:\n",
        "        driver.execute_script('window.scrollTo(0, document.body.scrollHeight);')\n",
        "        time.sleep(0.5)\n",
        "        if datetime.datetime.now() > end:\n",
        "            break"
      ],
      "execution_count": null,
      "outputs": []
    },
    {
      "cell_type": "markdown",
      "metadata": {
        "id": "ClLiwCHbkxfI"
      },
      "source": [
        "### 브라우저 설정 및 새 브라우저 열기"
      ]
    },
    {
      "cell_type": "code",
      "metadata": {
        "id": "yVrmHnlzk1T_"
      },
      "source": [
        "options = webdriver.ChromeOptions()\n",
        "options.add_argument('--start-fullscreen')\n",
        "driver = webdriver.Chrome('./chromedriver', options = options) \n",
        "driver.maximize_window()\n",
        "driver.get('https://brunch.co.kr/keyword/프랑스여행')"
      ],
      "execution_count": null,
      "outputs": []
    },
    {
      "cell_type": "markdown",
      "metadata": {
        "id": "_XJXmdp3k4Vr"
      },
      "source": [
        "### 50초 동안 스크롤 내리기"
      ]
    },
    {
      "cell_type": "code",
      "metadata": {
        "id": "0RAVWwUNk75R"
      },
      "source": [
        "doScrollDown(50)"
      ],
      "execution_count": null,
      "outputs": []
    },
    {
      "cell_type": "markdown",
      "metadata": {
        "id": "M_tVrmURk9rW"
      },
      "source": [
        "### 글 제목과 본문을 저장할 리스트 생성"
      ]
    },
    {
      "cell_type": "code",
      "metadata": {
        "id": "fQHfARb6lELx"
      },
      "source": [
        "title_list =[]\n",
        "article_list = []"
      ],
      "execution_count": null,
      "outputs": []
    },
    {
      "cell_type": "markdown",
      "metadata": {
        "id": "dn77UXPJlFy4"
      },
      "source": [
        "### 제목을 수집해 title_list에 저장 -> 클릭해 새탭에서 열기 -> 본문 글 수집 -> 탭 종료 및\n",
        "### 검색결과 화면으로 돌아감 -> 반복"
      ]
    },
    {
      "cell_type": "code",
      "metadata": {
        "id": "iW48-5PelI04"
      },
      "source": [
        "title = driver.find_elements_by_class_name(\"tit_subject\")\n",
        "for k in notebook.tqdm(title, desc = 'progress bar'):\n",
        "    title_list.append(k.text)\n",
        "    webdriver.ActionChains(driver).key_down(Keys.CONTROL).click(k).key_up(Keys.CONTROL).perform()\n",
        "    driver.switch_to.window(driver.window_handles[-1])\n",
        "    \n",
        "    article = driver.find_elements_by_class_name(\"item_type_text\")\n",
        "    join_article_list = []\n",
        "    for j in article:\n",
        "        join_article_list.append(j.text)\n",
        "        fully_combined = \" \".join(map(str, join_article_list))\n",
        "    article_list.append(fully_combined)\n",
        "    time.sleep(1)\n",
        "    driver.close()\n",
        "    driver.switch_to.window(driver.window_handles[0])\n",
        "    doScrollDown(1)"
      ],
      "execution_count": null,
      "outputs": []
    },
    {
      "cell_type": "markdown",
      "metadata": {
        "id": "c1B27uA7lLMd"
      },
      "source": [
        "### 데이터프레임으로 정리, export"
      ]
    },
    {
      "cell_type": "code",
      "metadata": {
        "id": "7WeqrRqrlN-M"
      },
      "source": [
        "brunch_df = pd.DataFrame(data = {'Title' : title_list, 'Article' : article_list})\n",
        "brunch_df.to_csv('brunch_df.csv', index=False, encoding=\"utf-8-sig\")"
      ],
      "execution_count": null,
      "outputs": []
    }
  ]
}