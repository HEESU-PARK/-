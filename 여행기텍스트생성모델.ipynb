{
  "nbformat": 4,
  "nbformat_minor": 0,
  "metadata": {
    "colab": {
      "name": "여행기텍스트생성모델.ipynb",
      "provenance": [],
      "collapsed_sections": []
    },
    "kernelspec": {
      "name": "python3",
      "display_name": "Python 3"
    },
    "language_info": {
      "name": "python"
    },
    "accelerator": "GPU"
  },
  "cells": [
    {
      "cell_type": "code",
      "metadata": {
        "colab": {
          "base_uri": "https://localhost:8080/"
        },
        "id": "Kb9dXXs_te3E",
        "outputId": "2e6578ff-3f58-4e59-ec9b-3f415aee8e64"
      },
      "source": [
        "from google.colab import drive\n",
        "drive.mount('/content/drive')"
      ],
      "execution_count": 1,
      "outputs": [
        {
          "output_type": "stream",
          "name": "stdout",
          "text": [
            "Mounted at /content/drive\n"
          ]
        }
      ]
    },
    {
      "cell_type": "code",
      "metadata": {
        "id": "MPKBLehlnAwP",
        "colab": {
          "base_uri": "https://localhost:8080/"
        },
        "outputId": "71e7ff2b-6094-4f41-80a0-28bb0008d721"
      },
      "source": [
        "! pip install transformers"
      ],
      "execution_count": 2,
      "outputs": [
        {
          "output_type": "stream",
          "name": "stdout",
          "text": [
            "Collecting transformers\n",
            "  Downloading transformers-4.10.0-py3-none-any.whl (2.8 MB)\n",
            "\u001b[K     |████████████████████████████████| 2.8 MB 5.1 MB/s \n",
            "\u001b[?25hRequirement already satisfied: requests in /usr/local/lib/python3.7/dist-packages (from transformers) (2.23.0)\n",
            "Requirement already satisfied: regex!=2019.12.17 in /usr/local/lib/python3.7/dist-packages (from transformers) (2019.12.20)\n",
            "Collecting pyyaml>=5.1\n",
            "  Downloading PyYAML-5.4.1-cp37-cp37m-manylinux1_x86_64.whl (636 kB)\n",
            "\u001b[K     |████████████████████████████████| 636 kB 46.2 MB/s \n",
            "\u001b[?25hRequirement already satisfied: numpy>=1.17 in /usr/local/lib/python3.7/dist-packages (from transformers) (1.19.5)\n",
            "Requirement already satisfied: filelock in /usr/local/lib/python3.7/dist-packages (from transformers) (3.0.12)\n",
            "Requirement already satisfied: packaging in /usr/local/lib/python3.7/dist-packages (from transformers) (21.0)\n",
            "Collecting sacremoses\n",
            "  Downloading sacremoses-0.0.45-py3-none-any.whl (895 kB)\n",
            "\u001b[K     |████████████████████████████████| 895 kB 38.8 MB/s \n",
            "\u001b[?25hRequirement already satisfied: importlib-metadata in /usr/local/lib/python3.7/dist-packages (from transformers) (4.6.4)\n",
            "Collecting tokenizers<0.11,>=0.10.1\n",
            "  Downloading tokenizers-0.10.3-cp37-cp37m-manylinux_2_5_x86_64.manylinux1_x86_64.manylinux_2_12_x86_64.manylinux2010_x86_64.whl (3.3 MB)\n",
            "\u001b[K     |████████████████████████████████| 3.3 MB 18.7 MB/s \n",
            "\u001b[?25hCollecting huggingface-hub>=0.0.12\n",
            "  Downloading huggingface_hub-0.0.16-py3-none-any.whl (50 kB)\n",
            "\u001b[K     |████████████████████████████████| 50 kB 6.1 MB/s \n",
            "\u001b[?25hRequirement already satisfied: tqdm>=4.27 in /usr/local/lib/python3.7/dist-packages (from transformers) (4.62.0)\n",
            "Requirement already satisfied: typing-extensions in /usr/local/lib/python3.7/dist-packages (from huggingface-hub>=0.0.12->transformers) (3.7.4.3)\n",
            "Requirement already satisfied: pyparsing>=2.0.2 in /usr/local/lib/python3.7/dist-packages (from packaging->transformers) (2.4.7)\n",
            "Requirement already satisfied: zipp>=0.5 in /usr/local/lib/python3.7/dist-packages (from importlib-metadata->transformers) (3.5.0)\n",
            "Requirement already satisfied: idna<3,>=2.5 in /usr/local/lib/python3.7/dist-packages (from requests->transformers) (2.10)\n",
            "Requirement already satisfied: chardet<4,>=3.0.2 in /usr/local/lib/python3.7/dist-packages (from requests->transformers) (3.0.4)\n",
            "Requirement already satisfied: certifi>=2017.4.17 in /usr/local/lib/python3.7/dist-packages (from requests->transformers) (2021.5.30)\n",
            "Requirement already satisfied: urllib3!=1.25.0,!=1.25.1,<1.26,>=1.21.1 in /usr/local/lib/python3.7/dist-packages (from requests->transformers) (1.24.3)\n",
            "Requirement already satisfied: click in /usr/local/lib/python3.7/dist-packages (from sacremoses->transformers) (7.1.2)\n",
            "Requirement already satisfied: joblib in /usr/local/lib/python3.7/dist-packages (from sacremoses->transformers) (1.0.1)\n",
            "Requirement already satisfied: six in /usr/local/lib/python3.7/dist-packages (from sacremoses->transformers) (1.15.0)\n",
            "Installing collected packages: tokenizers, sacremoses, pyyaml, huggingface-hub, transformers\n",
            "  Attempting uninstall: pyyaml\n",
            "    Found existing installation: PyYAML 3.13\n",
            "    Uninstalling PyYAML-3.13:\n",
            "      Successfully uninstalled PyYAML-3.13\n",
            "Successfully installed huggingface-hub-0.0.16 pyyaml-5.4.1 sacremoses-0.0.45 tokenizers-0.10.3 transformers-4.10.0\n"
          ]
        }
      ]
    },
    {
      "cell_type": "code",
      "metadata": {
        "id": "e_F4TMTxnDoI"
      },
      "source": [
        "from transformers import TextDataset, DataCollatorForLanguageModeling\n",
        "from transformers import GPT2LMHeadModel\n",
        "from transformers import Trainer, TrainingArguments\n",
        "from transformers import PreTrainedTokenizerFast\n",
        "from transformers import PreTrainedTokenizerFast, GPT2LMHeadModel\n",
        "\n",
        "path  = '/content/drive/MyDrive/[데청캠]시나브로/심화프로젝트/텍스트팀/화이팅' #여기에 모델있는 폴더 경로 입력\n",
        "\n",
        "def load_model(model_path):\n",
        "    model = GPT2LMHeadModel.from_pretrained(model_path)\n",
        "    return model\n",
        "\n",
        "\n",
        "def load_tokenizer(tokenizer_path):\n",
        "    tokenizer = PreTrainedTokenizerFast.from_pretrained(tokenizer_path)\n",
        "    return tokenizer\n",
        "\n",
        "\n",
        "def generate_text(sequence, max_length):\n",
        "    model_path = path\n",
        "    model = load_model(model_path)\n",
        "    tokenizer = load_tokenizer(model_path)\n",
        "    ids = tokenizer.encode(f'{sequence},', return_tensors='pt')\n",
        "    final_outputs = model.generate(\n",
        "        ids,\n",
        "        do_sample=True,\n",
        "        max_length=max_length,\n",
        "        pad_token_id=model.config.pad_token_id,\n",
        "        top_k=50,#50\n",
        "        top_p=0.95,#0.95\n",
        "    )\n",
        "    return(tokenizer.decode(final_outputs[0], skip_special_tokens=True))\n"
      ],
      "execution_count": 3,
      "outputs": []
    },
    {
      "cell_type": "code",
      "metadata": {
        "id": "P0Llq753ncyr",
        "colab": {
          "base_uri": "https://localhost:8080/"
        },
        "outputId": "e80643ba-db33-4c21-80bf-22baaaa18bfa"
      },
      "source": [
        "#기본\n",
        "g = generate_text('파리 프랑스', 50)\n",
        "g = g.split('<eos>')[0]\n",
        "g = g.split(',')[2:]\n",
        "g = ', '.join(g)\n",
        "print(g)"
      ],
      "execution_count": 4,
      "outputs": [
        {
          "output_type": "stream",
          "name": "stdout",
          "text": [
            "\n"
          ]
        }
      ]
    },
    {
      "cell_type": "code",
      "metadata": {
        "id": "Sc8bybRfnP8L",
        "colab": {
          "base_uri": "https://localhost:8080/"
        },
        "outputId": "17d2841e-b0e4-43f4-8103-f607d70b7a36"
      },
      "source": [
        "generated_texts = []\n",
        "#keywords = ['파리 에펠탑 아침 공기 날씨','루브르 오르세 거리 성당 사진','사람들  샹젤리제 에펠탑  잔디 저녁 맥주']\n",
        "landmark = ['파리']\n",
        "plus = ['에펠탑']\n",
        "keywords = []\n",
        "for i in landmark:\n",
        "    for p in plus:\n",
        "        text = i\n",
        "        text += ' ' + p\n",
        "        keywords.append(text)\n",
        "\n",
        "print(keywords)\n",
        "for key in keywords:\n",
        "    #input_data = input('키워드 입력 :')\n",
        "    #keywords.append(input_data)\n",
        "    input_data = key.split(' ')\n",
        "    #keywords.append(input)\n",
        "\n",
        "    #max_len = 300\n",
        "    total = ''\n",
        "\n",
        "    for i in input_data:\n",
        "        max_len = 100\n",
        "\n",
        "        print('input : ' + i)\n",
        "        #print('=' * 50)\n",
        "        \n",
        "        g = generate_text(',' + i, max_len)\n",
        "        g = g.split('<eos>')[0]\n",
        "        g = g.split(',')[2:]\n",
        "        g = ', '.join(g)\n",
        "\n",
        "        t =''\n",
        "        data = g.split('\\n')\n",
        "        data = data[:-1]\n",
        "        for d in data: \n",
        "            t += d + '\\n'\n",
        "\n",
        "        total += '\\n\\t'  + t\n",
        "        \n",
        "    print('=' * 50)\n",
        "    print(\"<generated_text>\")\n",
        "    print(total)\n",
        "    print('=' * 50)\n",
        "    generated_texts.append(total)"
      ],
      "execution_count": 22,
      "outputs": [
        {
          "output_type": "stream",
          "name": "stdout",
          "text": [
            "['파리 에펠탑']\n",
            "input : 파리\n",
            "input : 에펠탑\n",
            "==================================================\n",
            "<generated_text>\n",
            "\n",
            "\t 이태리 등 유럽전역에서 소매치기가 문제이다\n",
            "그래서 떠나기 전부터 소매치기 문제때문에 고민하고 여행중에도 소매치기 때문에 여행을 제대로 하지 못하는 사람들도 많다\n",
            "그 문제는 난 이렇게 해결했다\n",
            "절대 못여는 자물쇠와 끈을 사는것 보다 우선 내 마음의 관점을 바꾸기로 했다\n",
            "강도를 당하는것도 아니고 소매치기라면 돈 여권 핸드폰 정도 털리는거다\n",
            "\n",
            "\t 현재 복원 공사 중인 노트르담 성당이 나왔다\n",
            "우리가 흔히 알고 있는 순례자 마을과는 분위기가 사뭇 다른 곳이었다\n",
            "팔레 루와얄에서 전철을 타고 한참을 가야 했기 때문에 짐을 풀고 다시 성으로 들어가는 데는 괜찮은 방법이 없었다\n",
            "사실 성당을 돌아다니면서 사진도 찍고 유적지도 돌아보는데 2시간이 넘게 걸렸다\n",
            "\n",
            "==================================================\n"
          ]
        }
      ]
    },
    {
      "cell_type": "code",
      "metadata": {
        "id": "WAW5T1L8qsp8"
      },
      "source": [
        ""
      ],
      "execution_count": null,
      "outputs": []
    }
  ]
}