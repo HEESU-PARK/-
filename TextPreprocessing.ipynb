{
  "nbformat": 4,
  "nbformat_minor": 0,
  "metadata": {
    "colab": {
      "name": "텍스트 전처리.ipynb",
      "provenance": [],
      "collapsed_sections": []
    },
    "kernelspec": {
      "name": "python3",
      "display_name": "Python 3"
    },
    "language_info": {
      "name": "python"
    }
  },
  "cells": [
    {
      "cell_type": "markdown",
      "metadata": {
        "id": "eqHtADanj367"
      },
      "source": [
        "### 모듈 설치"
      ]
    },
    {
      "cell_type": "code",
      "metadata": {
        "id": "gFlajIiRdJNC"
      },
      "source": [
        "from konlpy.tag import Kkma\n",
        "from konlpy.tag import Okt\n",
        "import openpyxl\n",
        "kkma = Kkma()\n",
        "okt = Okt()\n",
        "\n",
        "import sys\n",
        "import os\n",
        "import re"
      ],
      "execution_count": null,
      "outputs": []
    },
    {
      "cell_type": "markdown",
      "metadata": {
        "id": "KXmUvXPMj7QL"
      },
      "source": [
        "### 전처리 함수"
      ]
    },
    {
      "cell_type": "code",
      "metadata": {
        "id": "6babqW5PdMNY"
      },
      "source": [
        "def preprocessing(review):\n",
        "    #기존 코드 name : 식당 이름 + 주소\n",
        "    #이름이랑 주소를 키워드 추출에서 빼기 위해서 문장에서 삭제하는 작업 수행\n",
        "    #'프랑스 파리' 이런 식으로 입력하거나, name을 지우고 코드 돌렸음\n",
        "    total_review = ''\n",
        "\n",
        "\n",
        "    #인풋리뷰\n",
        "    #리뷰 문장을 단위로 split 했음 (블로그 줄바꿈을 '. '로 없애서 저장해서 구분자 '. 'dla)\n",
        "    review = review.split('\\n')\n",
        "\n",
        "    pre_sent = '' #문장 단위 전처리 내용 담는 변수\n",
        "\n",
        "    for idx in range(len(review)):\n",
        "        r = review[idx]\n",
        "        #하나의 리뷰에서 문장 단위로 자르기\n",
        "\n",
        "        #name 지울거면 여기서 지우고, name 한 단어면 첫번째거만 하든지 해줘야함\n",
        "        #name 지우면 sentence = r 추가\n",
        "        #sentence = re.sub(name.split(' ')[0],'',r)\n",
        "        #sentence = re.sub(name.split(' ')[1],'',sentence)\n",
        "\n",
        "        sentence = r\n",
        "        #불용어 제거\n",
        "        sentence = re.sub('\\n','',sentence)\n",
        "        sentence = re.sub('\\u200b','',sentence)\n",
        "        sentence = re.sub('\\xa0','',sentence)\n",
        "        sentence = re.sub('([a-zA-Z])','',sentence)\n",
        "        sentence = re.sub('[ㄱ-ㅎㅏ-ㅣ]+','',sentence)\n",
        "        sentence = re.sub('[-=+,#/\\?:^$.@*\\\"※~&%ㆍ!』\\\\‘|\\(\\)\\[\\]\\<\\>`\\'…》?\\\"]','',sentence)\n",
        "\n",
        "\n",
        "        if len(sentence) == 0:\n",
        "            continue\n",
        "        pre_sent += (sentence + ' ')\n",
        "        #단어 추출\n",
        "        sentence = okt.pos(sentence, stem = True) #품사\n",
        "        word = []\n",
        "\n",
        "        for i in sentence:\n",
        "            if not i[1] == 'Noun':\n",
        "                continue\n",
        "            if len(i[0]) == 1:\n",
        "                continue\n",
        "            word.append(i[0])\n",
        "        word = ' '.join(word)\n",
        "        word += '. '\n",
        "        total_review += word\n",
        "    return pre_sent, total_review\n"
      ],
      "execution_count": null,
      "outputs": []
    },
    {
      "cell_type": "markdown",
      "metadata": {
        "id": "hNlr9CjVj9ys"
      },
      "source": [
        "### 테스트"
      ]
    },
    {
      "cell_type": "code",
      "metadata": {
        "id": "b_UXLXfOdRID"
      },
      "source": [
        "#test\n",
        "import pandas as pd\n",
        "file = open(\"가이드.txt\", \"r\", encoding='CP949')\n",
        "text = file.read()\n",
        "\n",
        "test_text, done = preprocessing(text)\n",
        "print('문장으로')\n",
        "print(test_text)\n",
        "print('단어로')\n",
        "print(done)"
      ],
      "execution_count": null,
      "outputs": []
    },
    {
      "cell_type": "markdown",
      "metadata": {
        "id": "x7704Uhyj_R4"
      },
      "source": [
        "### 워크북 생성"
      ]
    },
    {
      "cell_type": "code",
      "metadata": {
        "id": "wglsCPrzdSPN"
      },
      "source": [
        "# Workbook 생성\n",
        "wb = openpyxl.Workbook()\n",
        "\n",
        "# Sheet 활성\n",
        "sheet = wb.active\n",
        "sheet.append([\"original\",\"prep_s\", \"prep_w\"])\n",
        "sheet.append([text,test_text,done])\n",
        "\n",
        "wb.save(\"가이드.csv\")"
      ],
      "execution_count": null,
      "outputs": []
    }
  ]
}